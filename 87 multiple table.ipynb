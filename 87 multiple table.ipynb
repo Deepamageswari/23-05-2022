{
 "cells": [
  {
   "cell_type": "code",
   "execution_count": 16,
   "metadata": {},
   "outputs": [
    {
     "name": "stdout",
     "output_type": "stream",
     "text": [
      "enter a8\n",
      "enter b7\n",
      "8 * 1 = 08    7 * 1 = 07    08 + 0 = 8    87 * 1 = 87\n",
      "8 * 2 = 16    7 * 2 = 14    16 + 1 = 17    87 * 2 = 174\n",
      "8 * 3 = 24    7 * 3 = 21    24 + 2 = 26    87 * 3 = 261\n",
      "8 * 4 = 32    7 * 4 = 28    32 + 2 = 34    87 * 4 = 348\n",
      "8 * 5 = 40    7 * 5 = 35    40 + 3 = 43    87 * 5 = 435\n",
      "8 * 6 = 48    7 * 6 = 42    48 + 4 = 52    87 * 6 = 522\n",
      "8 * 7 = 56    7 * 7 = 49    56 + 4 = 60    87 * 7 = 609\n",
      "8 * 8 = 64    7 * 8 = 56    64 + 5 = 69    87 * 8 = 696\n",
      "8 * 9 = 72    7 * 9 = 63    72 + 6 = 78    87 * 9 = 783\n",
      "8 * 10 = 80    7 * 10 = 70    80 + 7 = 87    87 * 10 = 870\n",
      "8 * 11 = 88    7 * 11 = 77    88 + 7 = 95    87 * 11 = 957\n",
      "8 * 12 = 96    7 * 12 = 84    96 + 8 = 104    87 * 12 = 1044\n",
      "8 * 13 = 104    7 * 13 = 91    104 + 9 = 113    87 * 13 = 1131\n",
      "8 * 14 = 112    7 * 14 = 98    112 + 9 = 121    87 * 14 = 1218\n",
      "8 * 15 = 120    7 * 15 = 105    120 + 10 = 130    87 * 15 = 1305\n",
      "8 * 16 = 128    7 * 16 = 112    128 + 11 = 139    87 * 16 = 1392\n",
      "8 * 17 = 136    7 * 17 = 119    136 + 11 = 147    87 * 17 = 1479\n",
      "8 * 18 = 144    7 * 18 = 126    144 + 12 = 156    87 * 18 = 1566\n",
      "8 * 19 = 152    7 * 19 = 133    152 + 13 = 165    87 * 19 = 1653\n"
     ]
    }
   ],
   "source": [
    "a=int(input('enter a'))\n",
    "b=int(input('enter b'))\n",
    "for i in range(1,20):\n",
    "    print(a,'*',i,'=', str(i*a).zfill(2),\"  \",b,'*',i,'=',str(i*b).zfill(2),\"  \",\\\n",
    "          str(i*a).zfill(2),'+',str(i*b).zfill(2)[:-1],'=',int(str(i*a).zfill(2))+int(str(i*b).zfill(2)[:-1])\\\n",
    "    ,\"  \",87,'*',i,'=',str(int(str(i*a).zfill(2))+int(str(i*b).zfill(2)[:-1]))+str(i*b).zfill(2)[-1])"
   ]
  },
  {
   "cell_type": "code",
   "execution_count": 34,
   "metadata": {},
   "outputs": [
    {
     "name": "stdout",
     "output_type": "stream",
     "text": [
      "enter a38\n",
      "3 * 1 = 03    8 * 1 = 08    03 + 0 = 3    87 * 1 = 38\n",
      "3 * 2 = 06    8 * 2 = 16    06 + 1 = 7    87 * 2 = 76\n",
      "3 * 3 = 09    8 * 3 = 24    09 + 2 = 11    87 * 3 = 114\n",
      "3 * 4 = 12    8 * 4 = 32    12 + 3 = 15    87 * 4 = 152\n",
      "3 * 5 = 15    8 * 5 = 40    15 + 4 = 19    87 * 5 = 190\n",
      "3 * 6 = 18    8 * 6 = 48    18 + 4 = 22    87 * 6 = 228\n",
      "3 * 7 = 21    8 * 7 = 56    21 + 5 = 26    87 * 7 = 266\n",
      "3 * 8 = 24    8 * 8 = 64    24 + 6 = 30    87 * 8 = 304\n",
      "3 * 9 = 27    8 * 9 = 72    27 + 7 = 34    87 * 9 = 342\n",
      "3 * 10 = 30    8 * 10 = 80    30 + 8 = 38    87 * 10 = 380\n",
      "3 * 11 = 33    8 * 11 = 88    33 + 8 = 41    87 * 11 = 418\n",
      "3 * 12 = 36    8 * 12 = 96    36 + 9 = 45    87 * 12 = 456\n",
      "3 * 13 = 39    8 * 13 = 104    39 + 10 = 49    87 * 13 = 494\n",
      "3 * 14 = 42    8 * 14 = 112    42 + 11 = 53    87 * 14 = 532\n",
      "3 * 15 = 45    8 * 15 = 120    45 + 12 = 57    87 * 15 = 570\n",
      "3 * 16 = 48    8 * 16 = 128    48 + 12 = 60    87 * 16 = 608\n",
      "3 * 17 = 51    8 * 17 = 136    51 + 13 = 64    87 * 17 = 646\n",
      "3 * 18 = 54    8 * 18 = 144    54 + 14 = 68    87 * 18 = 684\n",
      "3 * 19 = 57    8 * 19 = 152    57 + 15 = 72    87 * 19 = 722\n"
     ]
    }
   ],
   "source": [
    "a=str(input('enter a')).zfill(2)\n",
    "for i in range(1,20):\n",
    "    print(a[0],'*',i,'=', str(i*int(a[0])).zfill(2),\"  \",a[1],'*',i,'=',str(i*int(a[1])).zfill(2),\"  \",\\\n",
    "          str(i*int(a[0])).zfill(2),'+',str(i*int(a[1])).zfill(2)[:-1],'=',int(str(i*int(a[0])).zfill(2))+int(str(i*int(a[1])).zfill(2)[:-1])\\\n",
    "    ,\"  \",87,'*',i,'=',str(int(str(i*int(a[0])).zfill(2))+int(str(i*int(a[1])).zfill(2)[:-1]))+str(i*int(a[1])).zfill(2)[-1])"
   ]
  },
  {
   "cell_type": "code",
   "execution_count": null,
   "metadata": {},
   "outputs": [],
   "source": []
  },
  {
   "cell_type": "code",
   "execution_count": 26,
   "metadata": {},
   "outputs": [
    {
     "name": "stdout",
     "output_type": "stream",
     "text": [
      "j\n"
     ]
    }
   ],
   "source": [
    "d='ji'\n",
    "print(d[:-1])"
   ]
  },
  {
   "cell_type": "code",
   "execution_count": null,
   "metadata": {},
   "outputs": [],
   "source": []
  },
  {
   "cell_type": "code",
   "execution_count": null,
   "metadata": {},
   "outputs": [],
   "source": []
  }
 ],
 "metadata": {
  "kernelspec": {
   "display_name": "Python 3",
   "language": "python",
   "name": "python3"
  },
  "language_info": {
   "codemirror_mode": {
    "name": "ipython",
    "version": 3
   },
   "file_extension": ".py",
   "mimetype": "text/x-python",
   "name": "python",
   "nbconvert_exporter": "python",
   "pygments_lexer": "ipython3",
   "version": "3.8.5"
  }
 },
 "nbformat": 4,
 "nbformat_minor": 4
}
