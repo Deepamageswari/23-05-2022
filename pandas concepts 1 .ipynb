{
 "cells": [
  {
   "cell_type": "code",
   "execution_count": 1,
   "metadata": {},
   "outputs": [],
   "source": [
    "import pandas as pd"
   ]
  },
  {
   "cell_type": "code",
   "execution_count": 35,
   "metadata": {},
   "outputs": [],
   "source": [
    "df=pd.DataFrame()"
   ]
  },
  {
   "cell_type": "code",
   "execution_count": 36,
   "metadata": {},
   "outputs": [],
   "source": [
    "df['f_col']=[1,2,3,4,5]"
   ]
  },
  {
   "cell_type": "code",
   "execution_count": 37,
   "metadata": {},
   "outputs": [],
   "source": [
    "df['s_col']=['bhavana','uvraj','reshma','qutee','zafar']"
   ]
  },
  {
   "cell_type": "code",
   "execution_count": 38,
   "metadata": {},
   "outputs": [],
   "source": [
    "df['t_col']=['123,anna nagar,chennai,tamilnadu','456,t nagar,chennai,tamilnadu',\\\n",
    "             '789,shanti nagar,bangalore,karnataga','jp nagar,bangalore,karnataka','udupi,rainy,maharastra']"
   ]
  },
  {
   "cell_type": "code",
   "execution_count": 39,
   "metadata": {},
   "outputs": [
    {
     "name": "stdout",
     "output_type": "stream",
     "text": [
      "   f_col    s_col                                 t_col\n",
      "0      1  bhavana      123,anna nagar,chennai,tamilnadu\n",
      "1      2    uvraj         456,t nagar,chennai,tamilnadu\n",
      "2      3   reshma  789,shanti nagar,bangalore,karnataga\n",
      "3      4    qutee          jp nagar,bangalore,karnataka\n",
      "4      5    zafar                udupi,rainy,maharastra\n"
     ]
    }
   ],
   "source": [
    "print(df)"
   ]
  },
  {
   "cell_type": "code",
   "execution_count": 33,
   "metadata": {},
   "outputs": [],
   "source": [
    "del df"
   ]
  },
  {
   "cell_type": "code",
   "execution_count": 17,
   "metadata": {},
   "outputs": [
    {
     "name": "stdout",
     "output_type": "stream",
     "text": [
      "123,anna nagar,chennai,tamilnadu\n",
      "456,t nagar,chennai,tamilnadu\n",
      "789,shanti nagar,bangalore,karnataga\n"
     ]
    }
   ],
   "source": [
    "for i in df['t_col']:\n",
    "    a=i.split(',')\n",
    "    if len(a)==4:\n",
    "        print(i)\n"
   ]
  },
  {
   "cell_type": "code",
   "execution_count": 16,
   "metadata": {},
   "outputs": [],
   "source": [
    "import numpy as np"
   ]
  },
  {
   "cell_type": "code",
   "execution_count": 41,
   "metadata": {},
   "outputs": [],
   "source": [
    "df.loc[len(df.index)]=['6','marun','111,btm,bangalore,karnataka']"
   ]
  },
  {
   "cell_type": "code",
   "execution_count": 23,
   "metadata": {
    "scrolled": true
   },
   "outputs": [],
   "source": [
    "df.drop(5,inplace=True)   # it will give new dataframe if inplace=True is not given"
   ]
  },
  {
   "cell_type": "code",
   "execution_count": 31,
   "metadata": {},
   "outputs": [],
   "source": [
    "update_df = df.drop([df.index[1], df.index[2]],inplace=True)"
   ]
  },
  {
   "cell_type": "code",
   "execution_count": 28,
   "metadata": {},
   "outputs": [],
   "source": [
    "update_df = df.drop([1,3])"
   ]
  },
  {
   "cell_type": "code",
   "execution_count": 42,
   "metadata": {
    "scrolled": false
   },
   "outputs": [
    {
     "name": "stdout",
     "output_type": "stream",
     "text": [
      "  f_col    s_col                                 t_col\n",
      "0     1  bhavana      123,anna nagar,chennai,tamilnadu\n",
      "1     2    uvraj         456,t nagar,chennai,tamilnadu\n",
      "2     3   reshma  789,shanti nagar,bangalore,karnataga\n",
      "3     4    qutee          jp nagar,bangalore,karnataka\n",
      "4     5    zafar                udupi,rainy,maharastra\n",
      "5     6    marun           111,btm,bangalore,karnataka\n"
     ]
    }
   ],
   "source": [
    "print(df)"
   ]
  },
  {
   "cell_type": "code",
   "execution_count": null,
   "metadata": {},
   "outputs": [],
   "source": [
    "df.append()"
   ]
  },
  {
   "cell_type": "code",
   "execution_count": 51,
   "metadata": {},
   "outputs": [
    {
     "name": "stdout",
     "output_type": "stream",
     "text": [
      "4\n"
     ]
    }
   ],
   "source": [
    "length=len(df['t_col'][0].split(','))\n",
    "for i in df['t_col']:\n",
    "    a=i.split(',')\n",
    "    if len(a)>length:\n",
    "        length=len(a)\n",
    "print(length)"
   ]
  },
  {
   "cell_type": "code",
   "execution_count": 49,
   "metadata": {},
   "outputs": [
    {
     "name": "stdout",
     "output_type": "stream",
     "text": [
      "4\n"
     ]
    }
   ],
   "source": [
    "print(len(df['t_col'][0].split(',')))"
   ]
  }
 ],
 "metadata": {
  "kernelspec": {
   "display_name": "Python 3",
   "language": "python",
   "name": "python3"
  },
  "language_info": {
   "codemirror_mode": {
    "name": "ipython",
    "version": 3
   },
   "file_extension": ".py",
   "mimetype": "text/x-python",
   "name": "python",
   "nbconvert_exporter": "python",
   "pygments_lexer": "ipython3",
   "version": "3.8.5"
  }
 },
 "nbformat": 4,
 "nbformat_minor": 4
}
