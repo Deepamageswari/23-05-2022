{
 "cells": [
  {
   "cell_type": "code",
   "execution_count": 11,
   "metadata": {},
   "outputs": [
    {
     "data": {
      "text/plain": [
       "77"
      ]
     },
     "execution_count": 11,
     "metadata": {},
     "output_type": "execute_result"
    }
   ],
   "source": [
    "file=open(r'C:\\Users\\ELCOT\\OneDrive\\Desktop\\file_handeling.txt','a')\n",
    "file.write('\\n')\n",
    "file.write('Every beings are living happily because of your patient and tolerence and ...')"
   ]
  },
  {
   "cell_type": "code",
   "execution_count": 3,
   "metadata": {},
   "outputs": [
    {
     "data": {
      "text/plain": [
       "50"
      ]
     },
     "execution_count": 3,
     "metadata": {},
     "output_type": "execute_result"
    }
   ],
   "source": [
    "file.write('hello world,thank you for your patient,we love you')"
   ]
  },
  {
   "cell_type": "code",
   "execution_count": 12,
   "metadata": {},
   "outputs": [
    {
     "name": "stdout",
     "output_type": "stream",
     "text": [
      "happy life is because of you only\n",
      "Every beings are living happily because of your patient and tolerence and ...\n"
     ]
    }
   ],
   "source": [
    "file=open(r'C:\\Users\\ELCOT\\OneDrive\\Desktop\\file_handeling.txt','r')\n",
    "print(file.read())"
   ]
  },
  {
   "cell_type": "code",
   "execution_count": 24,
   "metadata": {},
   "outputs": [
    {
     "data": {
      "text/plain": [
       "33"
      ]
     },
     "execution_count": 24,
     "metadata": {},
     "output_type": "execute_result"
    }
   ],
   "source": [
    "file=open(r'C:\\Users\\ELCOT\\OneDrive\\Desktop\\file_handeling.txt','w')\n",
    "file.write('happy life is because of you only')"
   ]
  },
  {
   "cell_type": "code",
   "execution_count": null,
   "metadata": {},
   "outputs": [],
   "source": [
    "'''Assignment (based on File handling)\n",
    "\n",
    "1. create a file say file1.txt - in notepad \n",
    "   add about 15 lines in it (copy some text from net)\n",
    "   Write a program to copy the first 10 lines \n",
    "   to a file file2_10.txt\n",
    "   and the last 5 lines to file3_5.txt\n",
    "   '''"
   ]
  },
  {
   "cell_type": "code",
   "execution_count": 65,
   "metadata": {},
   "outputs": [],
   "source": [
    "file1=open(r'C:\\Users\\ELCOT\\OneDrive\\Desktop\\communication skill session\\file1.txt','r')"
   ]
  },
  {
   "cell_type": "code",
   "execution_count": 66,
   "metadata": {},
   "outputs": [
    {
     "name": "stdout",
     "output_type": "stream",
     "text": [
      "The Bilateria include the protostomes, containing invertebrates such as nematodes,\n",
      " arthropods, and molluscs, and the deuterostomes, containing the echinoderms and the chordates, \n",
      "the latter including the vertebrates. Life forms interpreted as early animals were present in \n",
      "the Ediacaran biota of the late Precambrian. Many modern animal phyla became clearly established\n",
      " in the fossil record as marine species during the Cambrian explosion, which began around 539 \n",
      "years ago. 6,331 groups of genes common to all living animals have been identified; these may \n",
      "have arisen from a single common ancestor that lived 650 million years ago.\n",
      "Historically, Aristotle divided animals into those with blood and those without. \n",
      "Carl Linnaeus created the first hierarchical biological classification for animals in\n",
      " 1758 with his Systema Naturae, which Jean-Baptiste Lamarck expanded into 14 phyla by 1809. \n",
      "In 1874, Ernst Haeckel divided the animal kingdom into the multicellular Metazoa (now synonymous \n",
      "for Animalia) and the Protozoa, single-celled organisms no longer considered animals. In modern times,\n",
      " the biological classification of animals relies on advanced techniques, such as molecular phylogenetics,\n",
      " which are effective at demonstrating the evolutionary relationships between taxa.\n",
      "Humans make use of many animal species, such as for food (including meat, milk, and eggs), \n",
      "for materials (such as leather and wool), as pets, and as working animals including for transport.\n",
      "\n"
     ]
    }
   ],
   "source": [
    "print(file1.read())"
   ]
  },
  {
   "cell_type": "code",
   "execution_count": 67,
   "metadata": {},
   "outputs": [],
   "source": [
    "with open (r'C:\\Users\\ELCOT\\OneDrive\\Desktop\\communication skill session\\file1.txt') as f:\n",
    "    lines=f.readline()"
   ]
  },
  {
   "cell_type": "code",
   "execution_count": 62,
   "metadata": {},
   "outputs": [],
   "source": [
    "file1.close()"
   ]
  },
  {
   "cell_type": "code",
   "execution_count": null,
   "metadata": {},
   "outputs": [],
   "source": [
    "'''Write a program to copy the first 10 lines \n",
    "to a file file2_10.txt\n",
    "and the last 5 lines to file3_5.txt'''"
   ]
  },
  {
   "cell_type": "code",
   "execution_count": 111,
   "metadata": {
    "scrolled": false
   },
   "outputs": [
    {
     "name": "stdout",
     "output_type": "stream",
     "text": [
      "The Bilateria include the protostomes, containing invertebrates such as nematodes,\n",
      " arthropods, and molluscs, and the deuterostomes, containing the echinoderms and the chordates, \n",
      "the latter including the vertebrates. Life forms interpreted as early animals were present in \n",
      "the Ediacaran biota of the late Precambrian. Many modern animal phyla became clearly established\n",
      " in the fossil record as marine species during the Cambrian explosion, which began around 539 \n",
      "years ago. 6,331 groups of genes common to all living animals have been identified; these may \n",
      "have arisen from a single common ancestor that lived 650 million years ago.\n",
      "Historically, Aristotle divided animals into those with blood and those without. \n",
      "Carl Linnaeus created the first hierarchical biological classification for animals in\n",
      " 1758 with his Systema Naturae, which Jean-Baptiste Lamarck expanded into 14 phyla by 1809. \n",
      "\n",
      "for Animalia) and the Protozoa, single-celled organisms no longer considered animals. In modern times,\n",
      " the biological classification of animals relies on advanced techniques, such as molecular phylogenetics,\n",
      " which are effective at demonstrating the evolutionary relationships between taxa.\n",
      "Humans make use of many animal species, such as for food (including meat, milk, and eggs), \n",
      "for materials (such as leather and wool), as pets, and as working animals including for transport.\n",
      "\n"
     ]
    }
   ],
   "source": [
    "file10=open(r'C:\\Users\\ELCOT\\OneDrive\\Desktop\\communication skill session\\file2_10.txt','w')\n",
    "file3_5=open(r'C:\\Users\\ELCOT\\OneDrive\\Desktop\\communication skill session\\file3_5.txt','w')\n",
    "file1_r=open(r'C:\\Users\\ELCOT\\OneDrive\\Desktop\\communication skill session\\file1.txt','r')\n",
    "for i in file1_r.readlines()[0:10]:\n",
    "    file10.write(i)\n",
    "file1_r=open(r'C:\\Users\\ELCOT\\OneDrive\\Desktop\\communication skill session\\file1.txt','r')\n",
    "for j in file1_r.readlines()[-5:]:\n",
    "    file3_5.write(j)\n",
    "file2_10=open(r'C:\\Users\\ELCOT\\OneDrive\\Desktop\\communication skill session\\file2_10.txt','r')\n",
    "print(file2_10.read())\n",
    "file3_5=open(r'C:\\Users\\ELCOT\\OneDrive\\Desktop\\communication skill session\\file3_5.txt','r')\n",
    "print(file3_5.read())\n"
   ]
  },
  {
   "cell_type": "code",
   "execution_count": 113,
   "metadata": {},
   "outputs": [
    {
     "name": "stdout",
     "output_type": "stream",
     "text": [
      "for Animalia) and th\n"
     ]
    }
   ],
   "source": [
    "file3_5=open(r'C:\\Users\\ELCOT\\OneDrive\\Desktop\\communication skill session\\file3_5.txt','r')\n",
    "print(file3_5.read(20))"
   ]
  },
  {
   "cell_type": "code",
   "execution_count": null,
   "metadata": {},
   "outputs": [],
   "source": [
    "'''2. Use the same file1.txt\n",
    "   go to the 50th char position.\n",
    "   copy the next 40 char and store it in a file\n",
    "   called file_50.txt\n",
    "   Process the file1.txt from the end. Fetch the last\n",
    "   75 char and store it in a file file2_75.txt\n",
    "'''"
   ]
  },
  {
   "cell_type": "code",
   "execution_count": 128,
   "metadata": {},
   "outputs": [
    {
     "name": "stdout",
     "output_type": "stream",
     "text": [
      "enter the position of a character50\n",
      "invertebrates such as nematodes,\n",
      " arthro\n"
     ]
    }
   ],
   "source": [
    "file1_r=open(r'C:\\Users\\ELCOT\\OneDrive\\Desktop\\communication skill session\\file1.txt','r')\n",
    "file_50=open(r'C:\\Users\\ELCOT\\OneDrive\\Desktop\\communication skill session\\file_50.txt','w')\n",
    "a=int(input(\"enter the position of a character\"))\n",
    "b=a+40\n",
    "from_50=file1_r.read()[a:b]\n",
    "file_50.write(from_50)\n",
    "file_50=open(r'C:\\Users\\ELCOT\\OneDrive\\Desktop\\communication skill session\\file_50.txt','r')\n",
    "print(file_50.read())"
   ]
  },
  {
   "cell_type": "code",
   "execution_count": null,
   "metadata": {},
   "outputs": [],
   "source": [
    "''' Process the file1.txt from the end. Fetch the last\n",
    "   75 char and store it in a file file2_75.txt'''"
   ]
  },
  {
   "cell_type": "code",
   "execution_count": 130,
   "metadata": {},
   "outputs": [
    {
     "name": "stdout",
     "output_type": "stream",
     "text": [
      "eather and wool), as pets, and as working animals including for transport.\n",
      "\n"
     ]
    }
   ],
   "source": [
    "file1_r=open(r'C:\\Users\\ELCOT\\OneDrive\\Desktop\\communication skill session\\file1.txt','r')\n",
    "file_75=open(r'C:\\Users\\ELCOT\\OneDrive\\Desktop\\communication skill session\\file_75.txt','w')\n",
    "last_75=file1_r.read()[-75:]\n",
    "file_75.write(last_75)\n",
    "file_75=open(r'C:\\Users\\ELCOT\\OneDrive\\Desktop\\communication skill session\\file_75.txt','r')\n",
    "print(file_75.read())\n",
    "    "
   ]
  },
  {
   "cell_type": "code",
   "execution_count": null,
   "metadata": {},
   "outputs": [],
   "source": [
    "'''3. Store prod id, prod name, prod catg, prod price\n",
    "   and prod selling price (first) in a dict\n",
    "   when the user enters -1 then stop and write the \n",
    "   dict in binary mode to a file\n",
    "   prod.dat\n",
    "   prod catg should be either A or B or C\n",
    "   if the catg is A then on the prod price (CP)\n",
    "   have 12.5% margin then compute the prod selling price\n",
    "   SP = CP + margin\n",
    "   if the catg is B then the margin is 9.5%\n",
    "   if the catg is C then the margin is 8%\n",
    "'''"
   ]
  },
  {
   "cell_type": "code",
   "execution_count": 137,
   "metadata": {
    "collapsed": true
   },
   "outputs": [
    {
     "name": "stdout",
     "output_type": "stream",
     "text": [
      "enter p_id1\n",
      "enter p_nma\n",
      "enter p_price10\n",
      "enter selling pice11\n",
      "enter p_id2\n",
      "enter p_nmb\n",
      "enter p_price20\n",
      "enter selling pice22\n",
      "enter p_id-1\n",
      "{1: ['a', 10, 11], 2: ['b', 20, 22]}\n"
     ]
    }
   ],
   "source": [
    "dic={}\n",
    "while True:\n",
    "    p_id=int(input('enter p_id'))\n",
    "    if p_id==-1:\n",
    "        break\n",
    "    p_nm=str(input('enter p_nm'))\n",
    "    p_price=int(input('enter p_price'))\n",
    "    p_selling_price=int(input('enter selling pice'))\n",
    "    elements={p_id:[p_nm,p_price,p_selling_price]}\n",
    "    dic.update(elements)\n",
    "print(dic)"
   ]
  },
  {
   "cell_type": "code",
   "execution_count": 138,
   "metadata": {},
   "outputs": [
    {
     "name": "stdout",
     "output_type": "stream",
     "text": [
      "{1: ['a', 10, 11], 2: ['b', 20, 22]}\n"
     ]
    }
   ],
   "source": [
    "print(str(dic))"
   ]
  },
  {
   "cell_type": "code",
   "execution_count": 141,
   "metadata": {},
   "outputs": [
    {
     "data": {
      "text/plain": [
       "36"
      ]
     },
     "execution_count": 141,
     "metadata": {},
     "output_type": "execute_result"
    }
   ],
   "source": [
    "new_file=open(r'C:\\Users\\ELCOT\\OneDrive\\Desktop\\communication skill session\\new_file.txt','w')\n",
    "new_file.write(str(dic))"
   ]
  },
  {
   "cell_type": "code",
   "execution_count": 142,
   "metadata": {},
   "outputs": [
    {
     "name": "stdout",
     "output_type": "stream",
     "text": [
      "{1: ['a', 10, 11], 2: ['b', 20, 22]}\n"
     ]
    }
   ],
   "source": [
    "#writing as txt file\n",
    "new_file=open(r'C:\\Users\\ELCOT\\OneDrive\\Desktop\\communication skill session\\new_file.txt','r')\n",
    "print(new_file.read())"
   ]
  },
  {
   "cell_type": "code",
   "execution_count": 145,
   "metadata": {},
   "outputs": [],
   "source": [
    "import pickle\n",
    "b_file=open(r'C:\\Users\\ELCOT\\OneDrive\\Desktop\\communication skill session\\binary_file.txt','wb')\n",
    "pickle.dump(dic,b_file)"
   ]
  },
  {
   "cell_type": "code",
   "execution_count": 146,
   "metadata": {},
   "outputs": [
    {
     "name": "stdout",
     "output_type": "stream",
     "text": [
      "€\u0004•!\u0000\u0000\u0000\u0000\u0000\u0000\u0000}”(K\u0001]”(Œ\u0001a”K\n",
      "K\u000b",
      "eK\u0002]”(Œ\u0001b”K\u0014K\u0016eu.\n"
     ]
    }
   ],
   "source": [
    "b_file=open(r'C:\\Users\\ELCOT\\OneDrive\\Desktop\\communication skill session\\binary_file.txt','r')\n",
    "print(b_file.read())"
   ]
  },
  {
   "cell_type": "code",
   "execution_count": null,
   "metadata": {},
   "outputs": [],
   "source": [
    "geeky_file = open('geekyfile', 'wb')\n",
    "    pickle.dump(dictionary, geeky_file)\n",
    "    geeky_file.close()"
   ]
  }
 ],
 "metadata": {
  "kernelspec": {
   "display_name": "Python 3",
   "language": "python",
   "name": "python3"
  },
  "language_info": {
   "codemirror_mode": {
    "name": "ipython",
    "version": 3
   },
   "file_extension": ".py",
   "mimetype": "text/x-python",
   "name": "python",
   "nbconvert_exporter": "python",
   "pygments_lexer": "ipython3",
   "version": "3.8.5"
  }
 },
 "nbformat": 4,
 "nbformat_minor": 4
}
